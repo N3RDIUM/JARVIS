{
 "cells": [
  {
   "cell_type": "code",
   "execution_count": 1,
   "metadata": {},
   "outputs": [
    {
     "name": "stderr",
     "output_type": "stream",
     "text": [
      "/mnt/CodeSSD/Code/jarvis/.venv/lib/python3.11/site-packages/tqdm/auto.py:21: TqdmWarning: IProgress not found. Please update jupyter and ipywidgets. See https://ipywidgets.readthedocs.io/en/stable/user_install.html\n",
      "  from .autonotebook import tqdm as notebook_tqdm\n",
      "2023-09-24 11:57:51.546290: I tensorflow/core/util/port.cc:110] oneDNN custom operations are on. You may see slightly different numerical results due to floating-point round-off errors from different computation orders. To turn them off, set the environment variable `TF_ENABLE_ONEDNN_OPTS=0`.\n",
      "2023-09-24 11:57:51.547540: I tensorflow/tsl/cuda/cudart_stub.cc:28] Could not find cuda drivers on your machine, GPU will not be used.\n",
      "2023-09-24 11:57:51.576741: I tensorflow/tsl/cuda/cudart_stub.cc:28] Could not find cuda drivers on your machine, GPU will not be used.\n",
      "2023-09-24 11:57:51.577185: I tensorflow/core/platform/cpu_feature_guard.cc:182] This TensorFlow binary is optimized to use available CPU instructions in performance-critical operations.\n",
      "To enable the following instructions: AVX2 AVX512F AVX512_VNNI FMA, in other operations, rebuild TensorFlow with the appropriate compiler flags.\n",
      "2023-09-24 11:57:52.468316: W tensorflow/compiler/tf2tensorrt/utils/py_utils.cc:38] TF-TRT Warning: Could not find TensorRT\n",
      "WARNING[XFORMERS]: xFormers can't load C++/CUDA extensions. xFormers was built for:\n",
      "    PyTorch 2.0.1+cu118 with CUDA 1108 (you have 2.0.1+cpu)\n",
      "    Python  3.11.4 (you have 3.11.5)\n",
      "  Please reinstall xformers (see https://github.com/facebookresearch/xformers#installing-xformers)\n",
      "  Memory-efficient attention, SwiGLU, sparse and more won't be available.\n",
      "  Set XFORMERS_MORE_DETAILS=1 for more details\n"
     ]
    }
   ],
   "source": [
    "import torch\n",
    "from diffusers import AutoPipelineForText2Image\n",
    "\n",
    "device = \"cpu\"\n",
    "dtype = torch.float32"
   ]
  },
  {
   "cell_type": "code",
   "execution_count": 2,
   "metadata": {},
   "outputs": [
    {
     "name": "stderr",
     "output_type": "stream",
     "text": [
      "Downloading (…)b452b0ff4d/README.md: 100%|██████████| 5.28k/5.28k [00:00<00:00, 15.4MB/s]\n",
      "Fetching 14 files: 100%|██████████| 14/14 [00:01<00:00,  8.68it/s]\n",
      "Loading pipeline components...: 100%|██████████| 5/5 [00:02<00:00,  2.24it/s]\n",
      "Fetching 11 files: 100%|██████████| 11/11 [00:05<00:00,  1.94it/s]\n",
      "Loading pipeline components...: 100%|██████████| 4/4 [00:00<00:00,  4.78it/s]\n"
     ]
    }
   ],
   "source": [
    "pipeline =  AutoPipelineForText2Image.from_pretrained(\n",
    "    \"warp-diffusion/wuerstchen\", torch_dtype=dtype, cache_dir=\".cache\"\n",
    ").to(device)\n"
   ]
  },
  {
   "cell_type": "code",
   "execution_count": 13,
   "metadata": {},
   "outputs": [
    {
     "name": "stderr",
     "output_type": "stream",
     "text": [
      "100%|██████████| 60/60 [06:13<00:00,  6.23s/it]\n",
      "100%|██████████| 12/12 [02:20<00:00, 11.74s/it]\n"
     ]
    },
    {
     "name": "stdout",
     "output_type": "stream",
     "text": [
      "[<PIL.Image.Image image mode=RGB size=1024x1024 at 0x7F4CDE147610>]\n"
     ]
    },
    {
     "name": "stderr",
     "output_type": "stream",
     "text": [
      "/mnt/CodeSSD/Code/jarvis/.venv/lib/python3.11/site-packages/huggingface_hub/file_download.py:659: FutureWarning: 'cached_download' is the legacy way to download files from the HF hub, please consider upgrading to 'hf_hub_download'\n",
      "  warnings.warn(\n"
     ]
    },
    {
     "name": "stdout",
     "output_type": "stream",
     "text": [
      "https://huggingface.co/eugenesiow/edsr-base/resolve/main/pytorch_model_4x.pt\n"
     ]
    }
   ],
   "source": [
    "import uuid\n",
    "from super_image import EdsrModel, ImageLoader\n",
    "from PIL import Image\n",
    "\n",
    "caption = input(\"Enter a caption: \")\n",
    "\n",
    "def generate(caption):\n",
    "    output = pipeline(\n",
    "        prompt=caption,\n",
    "        height=1024,\n",
    "        width=1024,\n",
    "        prior_guidance_scale=4.0,\n",
    "        decoder_guidance_scale=0.0,\n",
    "    )\n",
    "    images = output.images\n",
    "    imgID = str(uuid.uuid4())\n",
    "    print(images)\n",
    "    images[0].save(\"sdif_\"+imgID+\".png\")\n",
    "    image = Image.open('sdif_'+imgID+'.png')\n",
    "\n",
    "    model = EdsrModel.from_pretrained('eugenesiow/edsr-base', scale=4)\n",
    "    inputs = ImageLoader.load_image(image)\n",
    "    preds = model(inputs)\n",
    "\n",
    "    ImageLoader.save_image(preds, './sdif_'+imgID+\"-upscaled\"+'.png')\n",
    "\n",
    "generate(caption)"
   ]
  }
 ],
 "metadata": {
  "kernelspec": {
   "display_name": ".venv",
   "language": "python",
   "name": "python3"
  },
  "language_info": {
   "codemirror_mode": {
    "name": "ipython",
    "version": 3
   },
   "file_extension": ".py",
   "mimetype": "text/x-python",
   "name": "python",
   "nbconvert_exporter": "python",
   "pygments_lexer": "ipython3",
   "version": "3.11.5"
  },
  "orig_nbformat": 4
 },
 "nbformat": 4,
 "nbformat_minor": 2
}
